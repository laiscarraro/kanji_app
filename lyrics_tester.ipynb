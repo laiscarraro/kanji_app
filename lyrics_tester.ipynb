{
 "cells": [
  {
   "cell_type": "code",
   "execution_count": 39,
   "metadata": {},
   "outputs": [
    {
     "ename": "AttributeError",
     "evalue": "partially initialized module 'pandas' has no attribute 'core' (most likely due to a circular import)",
     "output_type": "error",
     "traceback": [
      "\u001b[1;31m---------------------------------------------------------------------------\u001b[0m",
      "\u001b[1;31mAttributeError\u001b[0m                            Traceback (most recent call last)",
      "\u001b[1;32mC:\\Users\\LAS~1\\AppData\\Local\\Temp/ipykernel_13436/2552507131.py\u001b[0m in \u001b[0;36m<module>\u001b[1;34m\u001b[0m\n\u001b[0;32m      3\u001b[0m \u001b[1;32mfrom\u001b[0m \u001b[0mbs4\u001b[0m \u001b[1;32mimport\u001b[0m \u001b[0mBeautifulSoup\u001b[0m\u001b[1;33m\u001b[0m\u001b[1;33m\u001b[0m\u001b[0m\n\u001b[0;32m      4\u001b[0m \u001b[1;32mimport\u001b[0m \u001b[0mnumpy\u001b[0m \u001b[1;32mas\u001b[0m \u001b[0mnp\u001b[0m\u001b[1;33m\u001b[0m\u001b[1;33m\u001b[0m\u001b[0m\n\u001b[1;32m----> 5\u001b[1;33m \u001b[1;32mimport\u001b[0m \u001b[0mpandas\u001b[0m\u001b[1;33m\u001b[0m\u001b[1;33m\u001b[0m\u001b[0m\n\u001b[0m\u001b[0;32m      6\u001b[0m \u001b[1;32mimport\u001b[0m \u001b[0mtime\u001b[0m\u001b[1;33m\u001b[0m\u001b[1;33m\u001b[0m\u001b[0m\n\u001b[0;32m      7\u001b[0m \u001b[1;33m\u001b[0m\u001b[0m\n",
      "\u001b[1;32mc:\\Users\\Laís\\AppData\\Local\\Programs\\Python\\Python39\\lib\\site-packages\\pandas\\__init__.py\u001b[0m in \u001b[0;36m<module>\u001b[1;34m\u001b[0m\n\u001b[0;32m    177\u001b[0m \u001b[1;33m\u001b[0m\u001b[0m\n\u001b[0;32m    178\u001b[0m \u001b[1;32mfrom\u001b[0m \u001b[0mpandas\u001b[0m\u001b[1;33m.\u001b[0m\u001b[0mutil\u001b[0m\u001b[1;33m.\u001b[0m\u001b[0m_tester\u001b[0m \u001b[1;32mimport\u001b[0m \u001b[0mtest\u001b[0m\u001b[1;33m\u001b[0m\u001b[1;33m\u001b[0m\u001b[0m\n\u001b[1;32m--> 179\u001b[1;33m \u001b[1;32mimport\u001b[0m \u001b[0mpandas\u001b[0m\u001b[1;33m.\u001b[0m\u001b[0mtesting\u001b[0m\u001b[1;33m\u001b[0m\u001b[1;33m\u001b[0m\u001b[0m\n\u001b[0m\u001b[0;32m    180\u001b[0m \u001b[1;32mimport\u001b[0m \u001b[0mpandas\u001b[0m\u001b[1;33m.\u001b[0m\u001b[0marrays\u001b[0m\u001b[1;33m\u001b[0m\u001b[1;33m\u001b[0m\u001b[0m\n\u001b[0;32m    181\u001b[0m \u001b[1;33m\u001b[0m\u001b[0m\n",
      "\u001b[1;32mc:\\Users\\Laís\\AppData\\Local\\Programs\\Python\\Python39\\lib\\site-packages\\pandas\\testing.py\u001b[0m in \u001b[0;36m<module>\u001b[1;34m\u001b[0m\n\u001b[0;32m      3\u001b[0m \"\"\"\n\u001b[0;32m      4\u001b[0m \u001b[1;33m\u001b[0m\u001b[0m\n\u001b[1;32m----> 5\u001b[1;33m from pandas._testing import (\n\u001b[0m\u001b[0;32m      6\u001b[0m     \u001b[0massert_extension_array_equal\u001b[0m\u001b[1;33m,\u001b[0m\u001b[1;33m\u001b[0m\u001b[1;33m\u001b[0m\u001b[0m\n\u001b[0;32m      7\u001b[0m     \u001b[0massert_frame_equal\u001b[0m\u001b[1;33m,\u001b[0m\u001b[1;33m\u001b[0m\u001b[1;33m\u001b[0m\u001b[0m\n",
      "\u001b[1;32mc:\\Users\\Laís\\AppData\\Local\\Programs\\Python\\Python39\\lib\\site-packages\\pandas\\_testing.py\u001b[0m in \u001b[0;36m<module>\u001b[1;34m\u001b[0m\n\u001b[0;32m   3052\u001b[0m \u001b[1;33m\u001b[0m\u001b[0m\n\u001b[0;32m   3053\u001b[0m \u001b[1;33m\u001b[0m\u001b[0m\n\u001b[1;32m-> 3054\u001b[1;33m \u001b[0mcython_table\u001b[0m \u001b[1;33m=\u001b[0m \u001b[0mpd\u001b[0m\u001b[1;33m.\u001b[0m\u001b[0mcore\u001b[0m\u001b[1;33m.\u001b[0m\u001b[0mbase\u001b[0m\u001b[1;33m.\u001b[0m\u001b[0mSelectionMixin\u001b[0m\u001b[1;33m.\u001b[0m\u001b[0m_cython_table\u001b[0m\u001b[1;33m.\u001b[0m\u001b[0mitems\u001b[0m\u001b[1;33m(\u001b[0m\u001b[1;33m)\u001b[0m\u001b[1;33m\u001b[0m\u001b[1;33m\u001b[0m\u001b[0m\n\u001b[0m\u001b[0;32m   3055\u001b[0m \u001b[1;33m\u001b[0m\u001b[0m\n\u001b[0;32m   3056\u001b[0m \u001b[1;33m\u001b[0m\u001b[0m\n",
      "\u001b[1;31mAttributeError\u001b[0m: partially initialized module 'pandas' has no attribute 'core' (most likely due to a circular import)"
     ]
    }
   ],
   "source": [
    "# External libs\n",
    "import requests, os, re\n",
    "from bs4 import BeautifulSoup\n",
    "import numpy as np\n",
    "import pandas as pd\n",
    "import time\n",
    "\n",
    "def get_anime_list(letter):\n",
    "    page = requests.get('https://www.animelyrics.com/anime/_'+letter.upper())\n",
    "    soup = BeautifulSoup(page.text, 'html.parser')\n",
    "    anime_list = pd.DataFrame([\n",
    "            (i.contents[0].lower(), i['href']) \n",
    "            for i in soup.find_all('a')\n",
    "            if 'href' in i.attrs.keys()\n",
    "            and re.match('anime/[a-z0-9]', str(i['href']))\n",
    "        ], columns=['name', 'path']\n",
    "    )\n",
    "\n",
    "    return anime_list"
   ]
  },
  {
   "cell_type": "code",
   "execution_count": 35,
   "metadata": {},
   "outputs": [
    {
     "data": {
      "text/plain": [
       "[('f-zero ~falcon densetsu~', 'anime/fzero'),\n",
       " ('fables of the green forest', 'anime/rockychuck'),\n",
       " ('fafner', 'anime/soukyuunofafner'),\n",
       " ('fairy tail', 'anime/fairytail'),\n",
       " ('fairy tail zero', 'anime/fairytail0'),\n",
       " ('fake', 'anime/fake'),\n",
       " ('the familiar of zero', 'anime/znt1'),\n",
       " ('famous detective holmes', 'anime/holmes'),\n",
       " ('famous dog lassie', 'anime/lassie'),\n",
       " ('fancy lala', 'anime/lala'),\n",
       " ('fantasia', 'anime/fantasia'),\n",
       " ('fantasista doll', 'anime/fantasista'),\n",
       " ('fantastic children', 'anime/fantastchildren'),\n",
       " ('fastest finger first', 'anime/7o3x'),\n",
       " ('fatal fury', 'anime/garoud'),\n",
       " ('fate/apocrypha', 'anime/fateapocrypha'),\n",
       " ('fate/extra last encore', 'anime/fateextrale'),\n",
       " ('fate/grand order - absolute demonic front: babylonia',\n",
       "  'anime/fgobabylonia'),\n",
       " ('fate/grand order -zettai majuu sensen babironia-', 'anime/fgobabylonia'),\n",
       " ('fate/kaleid liner prisma illya 2wei herz!', 'anime/fatekl2herz'),\n",
       " ('fate/kaleid liner prisma illya: vow in the snow', 'anime/fateklmovie'),\n",
       " ('fate/kaleid liner prisma☆illya 3rei!!', 'anime/fatekl3'),\n",
       " ('fate/kaleid liner prisma☆illya the movie: sekka no chikai',\n",
       "  'anime/fateklmovie'),\n",
       " ('fate/kaleid liner prisma☆illya', 'anime/fatekl'),\n",
       " ('fate/kaleid liner prisma☆illya 2wei!', 'anime/fatekl2'),\n",
       " ('fate/stay night', 'anime/fate_staynight'),\n",
       " (\"fate/stay night [heaven's feel] i.presage flower\", 'anime/fsnhf1'),\n",
       " (\"fate/stay night [heaven's feel] ii.lost butterfly\", 'anime/fsnhf2'),\n",
       " ('fate/stay night: unlimited blade works (tv)', 'anime/fsnubw'),\n",
       " ('fate/zero', 'anime/fatezero'),\n",
       " ('fight ippatsu! juuden-chan!!', 'anime/juudenchan'),\n",
       " ('fight! iczer one', 'anime/iczer1'),\n",
       " ('fighting beauty wulong', 'anime/wulong'),\n",
       " ('figure 17', 'anime/figure17'),\n",
       " ('final approach', 'anime/finalapproach'),\n",
       " ('final fantasy unlimited', 'anime/ffunlimited'),\n",
       " ('final fantasy vii advent children', 'anime/adventchildren'),\n",
       " ('final fantasy: legend of the crystals', 'anime/fflc'),\n",
       " ('final fantasy: the spirits within', 'anime/finalfantasytsw'),\n",
       " ('fire force', 'anime/fireforce'),\n",
       " ('fist of the north star\\r', 'anime/hokutonoken'),\n",
       " ('fist of the north star 2\\r', 'anime/hokutonoken2'),\n",
       " ('five star stories', 'anime/fivestar'),\n",
       " ('flame of recca', 'anime/recca'),\n",
       " ('flandes no inu', 'anime/flandersi'),\n",
       " ('flavors of youth', 'anime/shikioriori'),\n",
       " ('flcl', 'anime/furikuri'),\n",
       " ('flip flappers', 'anime/flipflappers'),\n",
       " ('floral magician mary bell', 'anime/marybell'),\n",
       " ('fly high! shun', 'anime/ganbalistshun'),\n",
       " ('flying witch', 'anime/flyingwitch'),\n",
       " ('food wars! the fourth plate', 'anime/sns4'),\n",
       " ('food wars! the second plate', 'anime/shokugeki2'),\n",
       " ('food wars! the third plate', 'anime/sns3'),\n",
       " ('food wars: shokugeki no soma', 'anime/shokugeki'),\n",
       " ('fortune arterial: akai yakusoku', 'anime/fortuneart'),\n",
       " ('fortune quest l', 'anime/fortunequestl'),\n",
       " ('fractale', 'anime/fractale'),\n",
       " ('francesca', 'anime/francesca'),\n",
       " ('francesca: girls be ambitious', 'anime/francesca'),\n",
       " ('free!', 'anime/swimminganime'),\n",
       " ('free! -eternal summer-', 'anime/frees2'),\n",
       " ('freezing', 'anime/freezing'),\n",
       " ('freezing vibration', 'anime/freezing2'),\n",
       " ('fresh precure!', 'anime/freshprecure'),\n",
       " ('from up on poppy hill', 'anime/kokurikozaka'),\n",
       " ('frozen (jp)', 'anime/frozenjp'),\n",
       " ('fruits basket', 'anime/fruitsbasket'),\n",
       " ('fruits basket (2019)', 'anime/furuba19'),\n",
       " ('fukumenkei noise', 'anime/fukumenkeinoise'),\n",
       " ('full metal alchemist (2003)', 'anime/fmalchemist'),\n",
       " ('full metal alchemist (2009)', 'anime/fma2009'),\n",
       " ('full metal panic', 'anime/fullmetalpanic'),\n",
       " ('full metal panic! the second raid', 'anime/fmptsr'),\n",
       " ('full moon o sagashite', 'anime/fullmoon'),\n",
       " ('fune wo amu', 'anime/funewoamu'),\n",
       " ('furi kuri', 'anime/furikuri'),\n",
       " ('fushigi na koala brinky', 'anime/brinky'),\n",
       " ('fushigi na merumo', 'anime/merumo'),\n",
       " ('fushigi no kuni no miyuki-chan', 'anime/miyukichan'),\n",
       " ('fushigi no umi no nadia', 'anime/nadia'),\n",
       " ('fushigi yuugi', 'anime/fushigi'),\n",
       " ('futakoi alternative', 'anime/futakoialt'),\n",
       " ('futari ecchi', 'anime/futarih'),\n",
       " ('futari wa pretty cure', 'anime/precure'),\n",
       " ('futari wa pretty cure max heart', 'anime/precuremh'),\n",
       " ('futari wa pretty cure splash star', 'anime/precuresst'),\n",
       " ('futsuu no joshikousei ga \"locodol\" yatte mita.', 'anime/locodol'),\n",
       " ('future boy conan', 'anime/fbconan'),\n",
       " ('future card buddyfight 100', 'anime/buddyfight100'),\n",
       " ('future card buddyfight ddd', 'anime/futurecard'),\n",
       " ('future gpx cyber formula', 'anime/gpx'),\n",
       " ('future police urashiman', 'anime/urashiman'),\n",
       " ('fuuka', 'anime/fuuka')]"
      ]
     },
     "execution_count": 35,
     "metadata": {},
     "output_type": "execute_result"
    }
   ],
   "source": [
    "get_anime_list('f')"
   ]
  }
 ],
 "metadata": {
  "kernelspec": {
   "display_name": "Python 3.9.1 64-bit",
   "language": "python",
   "name": "python3"
  },
  "language_info": {
   "codemirror_mode": {
    "name": "ipython",
    "version": 3
   },
   "file_extension": ".py",
   "mimetype": "text/x-python",
   "name": "python",
   "nbconvert_exporter": "python",
   "pygments_lexer": "ipython3",
   "version": "3.9.1"
  },
  "orig_nbformat": 4,
  "vscode": {
   "interpreter": {
    "hash": "3cdca807eabf8aeec8a7f2e6f36adc9100d22ecceaf04e4dcacbc79bf63bbfb9"
   }
  }
 },
 "nbformat": 4,
 "nbformat_minor": 2
}
